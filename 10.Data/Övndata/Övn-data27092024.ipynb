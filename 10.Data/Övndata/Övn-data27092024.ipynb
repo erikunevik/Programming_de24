{
 "cells": [
  {
   "cell_type": "code",
   "execution_count": 1,
   "metadata": {},
   "outputs": [
    {
     "name": "stdout",
     "output_type": "stream",
     "text": [
      "Requirement already satisfied: pandas in c:\\users\\eriku\\appdata\\local\\packages\\pythonsoftwarefoundation.python.3.11_qbz5n2kfra8p0\\localcache\\local-packages\\python311\\site-packages (2.2.3)\n",
      "Requirement already satisfied: numpy>=1.23.2 in c:\\users\\eriku\\appdata\\local\\packages\\pythonsoftwarefoundation.python.3.11_qbz5n2kfra8p0\\localcache\\local-packages\\python311\\site-packages (from pandas) (2.1.1)\n",
      "Requirement already satisfied: python-dateutil>=2.8.2 in c:\\users\\eriku\\appdata\\local\\packages\\pythonsoftwarefoundation.python.3.11_qbz5n2kfra8p0\\localcache\\local-packages\\python311\\site-packages (from pandas) (2.9.0.post0)\n",
      "Requirement already satisfied: pytz>=2020.1 in c:\\users\\eriku\\appdata\\local\\packages\\pythonsoftwarefoundation.python.3.11_qbz5n2kfra8p0\\localcache\\local-packages\\python311\\site-packages (from pandas) (2024.2)\n",
      "Requirement already satisfied: tzdata>=2022.7 in c:\\users\\eriku\\appdata\\local\\packages\\pythonsoftwarefoundation.python.3.11_qbz5n2kfra8p0\\localcache\\local-packages\\python311\\site-packages (from pandas) (2024.2)\n",
      "Requirement already satisfied: six>=1.5 in c:\\users\\eriku\\appdata\\local\\packages\\pythonsoftwarefoundation.python.3.11_qbz5n2kfra8p0\\localcache\\local-packages\\python311\\site-packages (from python-dateutil>=2.8.2->pandas) (1.16.0)\n"
     ]
    },
    {
     "name": "stderr",
     "output_type": "stream",
     "text": [
      "\n",
      "[notice] A new release of pip is available: 24.0 -> 24.2\n",
      "[notice] To update, run: C:\\Users\\eriku\\AppData\\Local\\Microsoft\\WindowsApps\\PythonSoftwareFoundation.Python.3.11_qbz5n2kfra8p0\\python.exe -m pip install --upgrade pip\n"
     ]
    }
   ],
   "source": [
    "!pip install pandas"
   ]
  },
  {
   "cell_type": "code",
   "execution_count": 2,
   "metadata": {},
   "outputs": [],
   "source": [
    "import pandas as pd"
   ]
  },
  {
   "cell_type": "code",
   "execution_count": 3,
   "metadata": {},
   "outputs": [
    {
     "name": "stdout",
     "output_type": "stream",
     "text": [
      "   bedrooms  sq_meter neighborhood  sales_price\n",
      "0         3       200  Normalville       250000\n",
      "1         2        80    Cool Town       300000\n"
     ]
    }
   ],
   "source": [
    "import pandas as pd\n",
    "\n",
    "# Define the path to your CSV file\n",
    "# Adjust the path if house_price.csv is in the same directory as the Jupyter notebook\n",
    "data = pd.read_csv(r\"C:\\Users\\eriku\\Desktop\\DataenginerSTI2024-2026\\Programmering\\Programmering I\\10.Data\\Övndata\\house_price.csv\")\n",
    "\n",
    "# Display the first two rows of the DataFrame\n",
    "print(data.head(2))"
   ]
  },
  {
   "cell_type": "code",
   "execution_count": 10,
   "metadata": {},
   "outputs": [
    {
     "name": "stdout",
     "output_type": "stream",
     "text": [
      "Medelvärdet är: bedrooms            2.4\n",
      "sq_meter          124.0\n",
      "sales_price    185600.0\n",
      "dtype: float64 standardavvikelsen är: bedrooms           1.140175\n",
      "sq_meter          70.302916\n",
      "sales_price    88525.702482\n",
      "dtype: float64 maximalvärdet är: bedrooms            4\n",
      "sq_meter          200\n",
      "sales_price    300000\n",
      "dtype: int64 minimivärdet är: bedrooms           1\n",
      "sq_meter          55\n",
      "sales_price    78000\n",
      "dtype: int64\n"
     ]
    }
   ],
   "source": [
    "# print(f\" Medelvärdet är: {data.mean()} standard avvikelsen är: {data.std()}, maximalvärdet är: {data.max()}, minimivärdet är: {data.min()}\")\n",
    "\n",
    "# Filter the DataFrame to only include numeric columns\n",
    "numeric_data = data.select_dtypes(include='number')\n",
    "\n",
    "# Now calculate statistics\n",
    "print(f\"Medelvärdet är: {numeric_data.mean()} standardavvikelsen är: {numeric_data.std()} maximalvärdet är: {numeric_data.max()} minimivärdet är: {numeric_data.min()}\")\n"
   ]
  },
  {
   "cell_type": "code",
   "execution_count": 14,
   "metadata": {},
   "outputs": [
    {
     "data": {
      "text/html": [
       "<div>\n",
       "<style scoped>\n",
       "    .dataframe tbody tr th:only-of-type {\n",
       "        vertical-align: middle;\n",
       "    }\n",
       "\n",
       "    .dataframe tbody tr th {\n",
       "        vertical-align: top;\n",
       "    }\n",
       "\n",
       "    .dataframe thead th {\n",
       "        text-align: right;\n",
       "    }\n",
       "</style>\n",
       "<table border=\"1\" class=\"dataframe\">\n",
       "  <thead>\n",
       "    <tr style=\"text-align: right;\">\n",
       "      <th></th>\n",
       "      <th>bedrooms</th>\n",
       "      <th>sq_meter</th>\n",
       "      <th>neighborhood</th>\n",
       "      <th>sales_price</th>\n",
       "    </tr>\n",
       "  </thead>\n",
       "  <tbody>\n",
       "    <tr>\n",
       "      <th>3</th>\n",
       "      <td>1</td>\n",
       "      <td>55</td>\n",
       "      <td>Normalville</td>\n",
       "      <td>78000</td>\n",
       "    </tr>\n",
       "    <tr>\n",
       "      <th>2</th>\n",
       "      <td>2</td>\n",
       "      <td>85</td>\n",
       "      <td>Normalville</td>\n",
       "      <td>150000</td>\n",
       "    </tr>\n",
       "    <tr>\n",
       "      <th>4</th>\n",
       "      <td>4</td>\n",
       "      <td>200</td>\n",
       "      <td>Skid Row</td>\n",
       "      <td>150000</td>\n",
       "    </tr>\n",
       "    <tr>\n",
       "      <th>0</th>\n",
       "      <td>3</td>\n",
       "      <td>200</td>\n",
       "      <td>Normalville</td>\n",
       "      <td>250000</td>\n",
       "    </tr>\n",
       "    <tr>\n",
       "      <th>1</th>\n",
       "      <td>2</td>\n",
       "      <td>80</td>\n",
       "      <td>Cool Town</td>\n",
       "      <td>300000</td>\n",
       "    </tr>\n",
       "  </tbody>\n",
       "</table>\n",
       "</div>"
      ],
      "text/plain": [
       "   bedrooms  sq_meter neighborhood  sales_price\n",
       "3         1        55  Normalville        78000\n",
       "2         2        85  Normalville       150000\n",
       "4         4       200     Skid Row       150000\n",
       "0         3       200  Normalville       250000\n",
       "1         2        80    Cool Town       300000"
      ]
     },
     "execution_count": 14,
     "metadata": {},
     "output_type": "execute_result"
    }
   ],
   "source": [
    "\n",
    "\n",
    "data.sort_values(by=['sales_price'])"
   ]
  },
  {
   "cell_type": "code",
   "execution_count": 16,
   "metadata": {},
   "outputs": [
    {
     "name": "stdout",
     "output_type": "stream",
     "text": [
      "Medelvärdet för försäljning är: bedrooms            2.4\n",
      "sq_meter          124.0\n",
      "sales_price    185600.0\n",
      "dtype: float64\n"
     ]
    }
   ],
   "source": [
    "# 5\n",
    "print(f\"Medelvärdet för försäljning är: {numeric_data.mean()}\")"
   ]
  },
  {
   "cell_type": "code",
   "execution_count": 25,
   "metadata": {},
   "outputs": [
    {
     "name": "stdout",
     "output_type": "stream",
     "text": [
      "Medelvärdet för försäljning är: 185600.0 och priset per kvadratmeter är: 1786.577540106952\n"
     ]
    }
   ],
   "source": [
    "# 6\n",
    "# print(f\"Medelvärdet för försäljning är: {numeric_data.mean()} i pris och per kvadrat meter: {data.mean(['sq_meter'])} \")\n",
    "\n",
    "# print(f\"Medelvärdet för försäljning är: {numeric_data['sales_price'].mean()} och priset per kvadratmeter är: {numeric_data[\"sales_price\"/\"sq_meter\"]}\")\n",
    "\n",
    "price_per_sq_meter = numeric_data['sales_price'] / numeric_data['sq_meter']\n",
    "\n",
    "# Print the results\n",
    "print(f\"Medelvärdet för försäljning är: {numeric_data['sales_price'].mean()} och priset per kvadratmeter är: {price_per_sq_meter.mean()}\") \n",
    "# För att den räknar ut meanen på alla sq meters"
   ]
  },
  {
   "cell_type": "code",
   "execution_count": 12,
   "metadata": {},
   "outputs": [
    {
     "name": "stdout",
     "output_type": "stream",
     "text": [
      "neighborhood\n",
      "Cool Town      300000.000000\n",
      "Normalville    159333.333333\n",
      "Skid Row       150000.000000\n",
      "Name: sales_price, dtype: float64\n"
     ]
    }
   ],
   "source": [
    "# 7\n",
    "import pandas as pd\n",
    "\n",
    "data = pd.read_csv(r\"C:\\Users\\eriku\\Desktop\\DataenginerSTI2024-2026\\Programmering\\Programmering I\\10.Data\\Övndata\\house_price.csv\")\n",
    "average_price_per_neighbourhood = data.groupby(\"neighborhood\")[\"sales_price\"].mean()\n",
    "\n",
    "print(average_price_per_neighbourhood)\n"
   ]
  },
  {
   "cell_type": "code",
   "execution_count": 13,
   "metadata": {},
   "outputs": [
    {
     "name": "stdout",
     "output_type": "stream",
     "text": [
      "  neighborhood  sales_price\n",
      "0     Cooltown      1000000\n",
      "1  Normalwille      3000000\n",
      "2     Skid Row      2000000\n"
     ]
    },
    {
     "data": {
      "image/png": "[encoded data removed]",
      "text/plain": [
       "<Figure size 640x480 with 1 Axes>"
      ]
     },
     "metadata": {},
     "output_type": "display_data"
    }
   ],
   "source": [
    "\n",
    "\n",
    "# data = average_price_per_neighbourhood({'pris per kvadratmeter':['Cooltown', 'Normalwille', 'Skid Row'], 'Område':[1000000, 3000000, 2000000]})\n",
    " #ax = df.plot.bar(x='neighborhood', y='sales_price', rot=0) feeeeeeeeeel\n",
    "\n",
    "# Assuming your function returns this dictionary\n",
    "# data_dict = {'pris per kvadratmeter': ['Cooltown', 'Normalwille', 'Skid Row'], \n",
    "#              'Område': [1000000, 3000000, 2000000]}\n",
    "# df = pd.DataFrame(data_dict)\n",
    "# df.rename(columns={'pris per kvadratmeter': 'neighborhood', 'Område': 'sales_price'}, inplace=True)\n",
    "\n",
    "# ax = df.plot.bar(x='neighborhood', y='sales_price', rot=0)\n",
    "\n",
    "import pandas as pd\n",
    "import matplotlib.pyplot as plt\n",
    "\n",
    "# Example data, replace this with the output from your function\n",
    "data_dict = {\n",
    "    'pris per kvadratmeter': ['Cooltown', 'Normalwille', 'Skid Row'],\n",
    "    'Område': [1000000, 3000000, 2000000]\n",
    "}\n",
    "\n",
    "# Step 2: Create the DataFrame\n",
    "df = pd.DataFrame(data_dict)\n",
    "\n",
    "# Step 3: Rename the columns for clarity\n",
    "df.rename(columns={'pris per kvadratmeter': 'neighborhood', 'Område': 'sales_price'}, inplace=True)\n",
    "\n",
    "# Display the DataFrame to check its structure\n",
    "print(df)\n",
    "\n",
    "# Step 4: Plot the data\n",
    "ax = df.plot.bar(x='neighborhood', y='sales_price', rot=0)\n",
    "plt.title('Average Sales Price per Neighborhood')  # Optional title\n",
    "plt.ylabel('Sales Price')  # Optional y-axis label\n",
    "plt.xlabel('Neighborhood')  # Optional x-axis label\n",
    "plt.show()  # Display the plot\n",
    "\n"
   ]
  },
  {
   "cell_type": "code",
   "execution_count": 14,
   "metadata": {},
   "outputs": [
    {
     "ename": "SyntaxError",
     "evalue": "invalid syntax. Perhaps you forgot a comma? (2078961581.py, line 5)",
     "output_type": "error",
     "traceback": [
      "\u001b[1;36m  Cell \u001b[1;32mIn[14], line 5\u001b[1;36m\u001b[0m\n\u001b[1;33m    data = { 7\u001b[0m\n\u001b[1;37m             ^\u001b[0m\n\u001b[1;31mSyntaxError\u001b[0m\u001b[1;31m:\u001b[0m invalid syntax. Perhaps you forgot a comma?\n"
     ]
    }
   ],
   "source": [
    "import pandas as pd\n",
    "import matplotlib.pyplot as plt\n",
    "\n",
    "# Sample data representing multiple sales for each neighborhood\n",
    "data = { 7\n",
    "    'neighborhood': ['Cooltown', 'Cooltown', 'Normalwille', 'Normalwille', 'Skid Row', 'Skid Row'],\n",
    "    'sales_price': [300000, 400000, 2000000, 3000000, 150000, 200000]\n",
    "}\n",
    "\n",
    "# Step 1: Create the DataFrame\n",
    "df = pd.DataFrame(data)\n",
    "\n",
    "# Step 2: Calculate the average price for each neighborhood\n",
    "average_prices = df.groupby('neighborhood')['sales_price'].mean().reset_index()\n",
    "\n",
    "# Step 3: Rename the columns for clarity\n",
    "average_prices.rename(columns={'sales_price': 'average_price'}, inplace=True)\n",
    "\n",
    "# Step 4: Create a bar chart\n",
    "plt.figure(figsize=(10, 6))  # Set the figure size\n",
    "plt.bar(average_prices['neighborhood'], average_prices['average_price'], color='skyblue')  # Create the bar chart\n",
    "plt.xlabel('New Neighborhood')  # X-axis label\n",
    "plt.ylabel('Average Price')  # Y-axis label\n",
    "plt.title('Average Price by Neighborhood')  # Chart title\n",
    "plt.xticks(rotation=15)  # Rotate x-axis labels for better readability\n",
    "plt.tight_layout()  # Adjust layout to prevent clipping of labels\n",
    "plt.show()  # Display the chart"
   ]
  },
  {
   "cell_type": "code",
   "execution_count": 9,
   "metadata": {},
   "outputs": [
    {
     "data": {
      "image/png": "[encoded data removed]",
      "text/plain": [
       "<Figure size 1000x600 with 1 Axes>"
      ]
     },
     "metadata": {},
     "output_type": "display_data"
    }
   ],
   "source": [
    "import pandas as pd\n",
    "import matplotlib.pyplot as plt\n",
    "\n",
    "# Sample data representing sales for each neighborhood\n",
    "data = {\n",
    "    'neighborhood': ['Cooltown', 'Cooltown', 'Normalwille', 'Normalwille', 'Normalwille', 'Skid Row', 'Skid Row'],\n",
    "    'sales_price': [300000, 400000, 2000000, 2500000, 1500000, 150000, 200000]\n",
    "}\n",
    "\n",
    "# Step 1: Create the DataFrame\n",
    "df = pd.DataFrame(data)\n",
    "\n",
    "# Step 2: Calculate the average price for each neighborhood\n",
    "average_prices = df.groupby('neighborhood')['sales_price'].mean().reset_index()\n",
    "\n",
    "# Step 3: Rename the columns for clarity\n",
    "average_prices.rename(columns={'sales_price': 'average_price'}, inplace=True)\n",
    "\n",
    "# Step 4: Create a bar chart\n",
    "plt.figure(figsize=(10, 6))  # Set the figure size\n",
    "plt.bar(average_prices['neighborhood'], average_prices['average_price'], color='skyblue')  # Create the bar chart\n",
    "plt.xlabel('New Neighborhood')  # X-axis label\n",
    "plt.ylabel('Average Price')  # Y-axis label\n",
    "plt.title('Average Price by Neighborhood')  # Chart title\n",
    "plt.xticks(rotation=15)  # Rotate x-axis labels for better readability\n",
    "plt.tight_layout()  # Adjust layout to prevent clipping of labels\n",
    "plt.show()  # Display the chart"
   ]
  },
  {
   "cell_type": "code",
   "execution_count": 15,
   "metadata": {},
   "outputs": [
    {
     "data": {
      "text/html": [
       "<div>\n",
       "<style scoped>\n",
       "    .dataframe tbody tr th:only-of-type {\n",
       "        vertical-align: middle;\n",
       "    }\n",
       "\n",
       "    .dataframe tbody tr th {\n",
       "        vertical-align: top;\n",
       "    }\n",
       "\n",
       "    .dataframe thead th {\n",
       "        text-align: right;\n",
       "    }\n",
       "</style>\n",
       "<table border=\"1\" class=\"dataframe\">\n",
       "  <thead>\n",
       "    <tr style=\"text-align: right;\">\n",
       "      <th></th>\n",
       "      <th>bedrooms</th>\n",
       "      <th>sq_meter</th>\n",
       "      <th>sales_price</th>\n",
       "    </tr>\n",
       "  </thead>\n",
       "  <tbody>\n",
       "    <tr>\n",
       "      <th>count</th>\n",
       "      <td>5.000000</td>\n",
       "      <td>5.000000</td>\n",
       "      <td>5.000000</td>\n",
       "    </tr>\n",
       "    <tr>\n",
       "      <th>mean</th>\n",
       "      <td>2.400000</td>\n",
       "      <td>124.000000</td>\n",
       "      <td>185600.000000</td>\n",
       "    </tr>\n",
       "    <tr>\n",
       "      <th>std</th>\n",
       "      <td>1.140175</td>\n",
       "      <td>70.302916</td>\n",
       "      <td>88525.702482</td>\n",
       "    </tr>\n",
       "    <tr>\n",
       "      <th>min</th>\n",
       "      <td>1.000000</td>\n",
       "      <td>55.000000</td>\n",
       "      <td>78000.000000</td>\n",
       "    </tr>\n",
       "    <tr>\n",
       "      <th>25%</th>\n",
       "      <td>2.000000</td>\n",
       "      <td>80.000000</td>\n",
       "      <td>150000.000000</td>\n",
       "    </tr>\n",
       "    <tr>\n",
       "      <th>50%</th>\n",
       "      <td>2.000000</td>\n",
       "      <td>85.000000</td>\n",
       "      <td>150000.000000</td>\n",
       "    </tr>\n",
       "    <tr>\n",
       "      <th>75%</th>\n",
       "      <td>3.000000</td>\n",
       "      <td>200.000000</td>\n",
       "      <td>250000.000000</td>\n",
       "    </tr>\n",
       "    <tr>\n",
       "      <th>max</th>\n",
       "      <td>4.000000</td>\n",
       "      <td>200.000000</td>\n",
       "      <td>300000.000000</td>\n",
       "    </tr>\n",
       "  </tbody>\n",
       "</table>\n",
       "</div>"
      ],
      "text/plain": [
       "       bedrooms    sq_meter    sales_price\n",
       "count  5.000000    5.000000       5.000000\n",
       "mean   2.400000  124.000000  185600.000000\n",
       "std    1.140175   70.302916   88525.702482\n",
       "min    1.000000   55.000000   78000.000000\n",
       "25%    2.000000   80.000000  150000.000000\n",
       "50%    2.000000   85.000000  150000.000000\n",
       "75%    3.000000  200.000000  250000.000000\n",
       "max    4.000000  200.000000  300000.000000"
      ]
     },
     "execution_count": 15,
     "metadata": {},
     "output_type": "execute_result"
    }
   ],
   "source": [
    "data.describe()\n",
    "\n",
    "\n"
   ]
  },
  {
   "cell_type": "code",
   "execution_count": null,
   "metadata": {},
   "outputs": [],
   "source": []
  }
 ],
 "metadata": {
  "kernelspec": {
   "display_name": "Python 3",
   "language": "python",
   "name": "python3"
  },
  "language_info": {
   "codemirror_mode": {
    "name": "ipython",
    "version": 3
   },
   "file_extension": ".py",
   "mimetype": "text/x-python",
   "name": "python",
   "nbconvert_exporter": "python",
   "pygments_lexer": "ipython3",
   "version": "3.11.9"
  }
 },
 "nbformat": 4,
 "nbformat_minor": 2
}
